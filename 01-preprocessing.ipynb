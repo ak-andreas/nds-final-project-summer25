{
 "cells": [
  {
   "cell_type": "markdown",
   "id": "d914862a",
   "metadata": {},
   "source": [
    "# Preprocessing Pipeline\n",
    "\n",
    "\n",
    "The goal of the preprocessing pipeline here is to serve as a draft. Before we perform spike inference. This could be using oases or other more sophisticated method.\n"
   ]
  },
  {
   "cell_type": "code",
   "execution_count": null,
   "id": "f6de39c8",
   "metadata": {},
   "outputs": [],
   "source": [
    "# Savitzky–Golay Smoothing\n",
    "from utils import smooth_dff_savgol\n",
    "\n",
    "sg_window = 11  # frames\n",
    "sg_poly = 2  # polynomial order\n",
    "\n",
    "# pull the drift‑corrected traces\n",
    "dff_dc = data[\"dff_drift\"]  # shape (n_cells, n_time)\n",
    "\n",
    "# smooth them\n",
    "dff_smooth = smooth_dff_savgol(dff_dc, window=sg_window, polyorder=sg_poly)\n",
    "\n",
    "# store back\n",
    "data[\"dff_smooth\"] = dff_smooth\n",
    "\n",
    "print(f\"Savitzky–Golay smoothing → window={sg_window}, polyorder={sg_poly}\")\n",
    "print(\"Smoothed shape:\", dff_smooth.shape)"
   ]
  }
 ],
 "metadata": {
  "language_info": {
   "name": "python"
  }
 },
 "nbformat": 4,
 "nbformat_minor": 5
}
