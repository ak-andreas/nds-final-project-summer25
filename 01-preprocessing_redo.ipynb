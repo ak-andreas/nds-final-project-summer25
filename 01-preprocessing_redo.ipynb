{
 "cells": [
  {
   "cell_type": "markdown",
   "id": "d914862a",
   "metadata": {},
   "source": [
    "# Preprocessing Pipeline\n",
    "\n",
    "\n",
    "The goal of the preprocessing pipeline here is to serve as a draft. Before we perform spike inference. This could be using oases or other more sophisticated method.\n"
   ]
  },
  {
   "cell_type": "code",
   "execution_count": 1,
   "id": "f1b2870e",
   "metadata": {},
   "outputs": [],
   "source": [
    "import utils as U\n",
    "import importlib\n",
    "importlib.reload(U)\n",
    "\n",
    "data = U.load_data()"
   ]
  },
  {
   "cell_type": "code",
   "execution_count": null,
   "id": "d3497b9b",
   "metadata": {},
   "outputs": [],
   "source": []
  }
 ],
 "metadata": {
  "kernelspec": {
   "display_name": "tue-summer-2025-oasis",
   "language": "python",
   "name": "python3"
  },
  "language_info": {
   "codemirror_mode": {
    "name": "ipython",
    "version": 3
   },
   "file_extension": ".py",
   "mimetype": "text/x-python",
   "name": "python",
   "nbconvert_exporter": "python",
   "pygments_lexer": "ipython3",
   "version": "3.11.11"
  }
 },
 "nbformat": 4,
 "nbformat_minor": 5
}
