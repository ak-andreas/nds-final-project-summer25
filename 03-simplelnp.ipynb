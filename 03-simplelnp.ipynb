{
 "cells": [
  {
   "cell_type": "code",
   "execution_count": 11,
   "id": "95c0a08b",
   "metadata": {},
   "outputs": [
    {
     "name": "stdout",
     "output_type": "stream",
     "text": [
      "Starting Phase 3: Tuning Function Fitting...\n",
      "Loading latest background data from: data/aakarsh/background/cleaned_2025_07_16_17_35_52.npz\n",
      "Loading latest spike inference data from: data/aakarsh/preprocessed/oasis_preprocessed_recordings_2025_07_18_10_16_01.npz\n",
      "KeysView(NpzFile 'data/aakarsh/preprocessed/oasis_preprocessed_recordings_2025_07_18_10_16_01.npz' with keys: processed_neuron_signal, spike_counts, thresholds, sampling_frequency, time_vector)\n",
      "Performing initial data preprocessing...\n",
      "Preprocessing complete.\n"
     ]
    }
   ],
   "source": [
    "# --- Phase 3: Tuning Function Fitting ---\n",
    "# Goal: Load the outputs from the previous notebooks (00 & 02) and use them \n",
    "# to estimate the receptive field (RF) for each neuron.\n",
    "\n",
    "import numpy as np\n",
    "import pandas as pd\n",
    "import matplotlib.pyplot as plt\n",
    "import utils as U \n",
    "import importlib\n",
    "import os\n",
    "import glob\n",
    "\n",
    "# Reload utils to ensure you're using the latest version of your functions\n",
    "importlib.reload(U) \n",
    "\n",
    "print(\"Starting Phase 3: Tuning Function Fitting...\")\n",
    "\n",
    "# --- Step 1: Load Inputs from Saved Files ---\n",
    "\n",
    "try:\n",
    "    # ACTION: Change 'aakarsh' to your namespace if needed.\n",
    "    namespace = \"aakarsh\" \n",
    "    \n",
    "    # --- Load the latest output from the preprocessing notebook (00-background.ipynb) ---\n",
    "    background_dir = f'data/{namespace}/background/'\n",
    "    list_of_background_files = glob.glob(os.path.join(background_dir, '*.npz'))\n",
    "    if not list_of_background_files:\n",
    "        raise FileNotFoundError(f\"No background data files found in '{background_dir}'\")\n",
    "    \n",
    "    latest_background_file = max(list_of_background_files, key=os.path.getctime)\n",
    "    print(f\"Loading latest background data from: {latest_background_file}\")\n",
    "    \n",
    "    stim_data = np.load(latest_background_file, allow_pickle=True)\n",
    "    stim_filtered = stim_data['stim_filtered']\n",
    "    stim_table_filtered_df = pd.DataFrame(stim_data['stim_table_filtered'], columns=stim_data['stim_table_columns'])\n",
    "    \n",
    "\n",
    "    # --- Load the latest output from the spike inference notebook (02-spike-inference.ipynb) ---\n",
    "    spike_inference_dir = f'data/{namespace}/preprocessed/'\n",
    "    list_of_spike_files = glob.glob(os.path.join(spike_inference_dir, '*.npz'))\n",
    "    if not list_of_spike_files:\n",
    "        raise FileNotFoundError(f\"No spike inference files found in '{spike_inference_dir}'\")\n",
    "    \n",
    "    latest_spike_file = max(list_of_spike_files, key=os.path.getctime)\n",
    "    print(f\"Loading latest spike inference data from: {latest_spike_file}\")\n",
    "    \n",
    "    spike_data = np.load(latest_spike_file, allow_pickle=True)\n",
    "    print(spike_data.keys())\n",
    "\n",
    "    inferred_spikes = spike_data['spike_counts']\n",
    "    time_vector = spike_data['time_vector']\n",
    "    sampling_rate = spike_data['sampling_frequency']\n",
    "   \n",
    "    data  = U.load_data()# Load the latest spike inference data\n",
    "    data  = U.preprocess_data(data)  # Preprocess the data \n",
    "\n",
    "except FileNotFoundError as e:\n",
    "    print(f\"ERROR: Could not find a necessary input file: {e}\")\n",
    "    print(\"Please ensure you have run the previous notebooks (00 and 02) and saved their outputs correctly.\")\n",
    "    raise"
   ]
  },
  {
   "cell_type": "code",
   "execution_count": 12,
   "id": "1407c4f3",
   "metadata": {},
   "outputs": [
    {
     "name": "stdout",
     "output_type": "stream",
     "text": [
      "Mapping active stimulus frame to each timestep...\n",
      "Mapping complete.\n"
     ]
    }
   ],
   "source": [
    "active_stim_per_timestep = U.get_active_stimulus_per_timestep(data['stim_table'], total_timesteps=len(data['t']))"
   ]
  },
  {
   "cell_type": "code",
   "execution_count": 13,
   "id": "5cb0b098",
   "metadata": {},
   "outputs": [],
   "source": [
    "importlib.reload(U)  # Reload utils to ensure you're using the latest version of your functions\n",
    "inferred_spikes = spike_data['spike_counts']\n",
    "# binned_spikes.shape, presented_frame_ids.shape\n",
    "binned_spikes, presented_frame_ids =  inferred_spikes, active_stim_per_timestep # stimulus data is already binned. \n",
    "#\\ U.bin_spikes_to_frames_from_active_stim_per_timestep(inferred_spikes, active_stim_per_timestep)"
   ]
  },
  {
   "cell_type": "code",
   "execution_count": 14,
   "id": "4a62ad11",
   "metadata": {},
   "outputs": [
    {
     "name": "stdout",
     "output_type": "stream",
     "text": [
      "binned_spikes.shape: (189, 62521), presented_frame_ids.shape: (62521,)\n"
     ]
    }
   ],
   "source": [
    "# Filter presented frame_ids and binned spikes by removing indexes where presented_Frame_ids is -1\n",
    "binned_spikes = binned_spikes[:, presented_frame_ids != -1]\n",
    "presented_frame_ids = presented_frame_ids[presented_frame_ids != -1]\n",
    "print(f\"binned_spikes.shape: {binned_spikes.shape}, presented_frame_ids.shape: {presented_frame_ids.shape}\")"
   ]
  },
  {
   "cell_type": "code",
   "execution_count": 15,
   "id": "786f4044",
   "metadata": {},
   "outputs": [],
   "source": [
    "assert np.sum(presented_frame_ids[presented_frame_ids == -1]) == 0, \"There are still -1 values in presented_frame_ids. Please check the filtering step.\""
   ]
  },
  {
   "cell_type": "code",
   "execution_count": 16,
   "id": "53608ce2",
   "metadata": {},
   "outputs": [
    {
     "name": "stdout",
     "output_type": "stream",
     "text": [
      "Preparing stimulus matrix from frame IDs...\n",
      "Stimulus matrix preparation complete. Shape: (448, 62521)\n"
     ]
    }
   ],
   "source": [
    "# Prepare the stimulus matrix from the presented frame IDs\n",
    "importlib.reload(U)  # Reload utils to ensure you're using the latest version of your functions\n",
    "\n",
    "flattened_stim, stim_h, stim_w = \\\n",
    "    U.prepare_stimulus_matrix_from_ids(presented_frame_ids, full_stim_movie=data['stim'])"
   ]
  },
  {
   "cell_type": "code",
   "execution_count": 17,
   "id": "fb448cd5",
   "metadata": {},
   "outputs": [
    {
     "name": "stdout",
     "output_type": "stream",
     "text": [
      "Flattened Stimulus Shape: (448, 62521)\n",
      "Flattened On Stimuli Shape: (448, 62521)\n",
      "Flattened Off Stimuli Shape: (448, 62521)\n",
      "\n",
      "Assertions passed! The shapes are now correct.\n"
     ]
    }
   ],
   "source": [
    "# Convert the stimulus to binary matrices for 'ON' and 'OFF' stimuli, these are easier to train and give better receptive field estimates.\n",
    "\n",
    "# Create a copy of the original flattened stimulus matrix\n",
    "flattened_on_stimuli = flattened_stim.copy()\n",
    "flattened_off_stimuli = flattened_stim.copy()\n",
    "\n",
    "# For the 'ON' matrix, set all 'OFF' pixels (<= 127) to zero\n",
    "flattened_on_stimuli[flattened_on_stimuli <= 127] = 0\n",
    "flattened_on_stimuli[flattened_on_stimuli > 127] = 1\n",
    "\n",
    "# For the 'OFF' matrix, set all 'ON' pixels (> 127) to zero\n",
    "flattened_off_stimuli[flattened_off_stimuli < 127] = 1\n",
    "flattened_off_stimuli[flattened_off_stimuli >= 127] = 0\n",
    "\n",
    "# --- Verification ---\n",
    "print(f\"Flattened Stimulus Shape: {flattened_stim.shape}\")\n",
    "print(f\"Flattened On Stimuli Shape: {flattened_on_stimuli.shape}\")\n",
    "print(f\"Flattened Off Stimuli Shape: {flattened_off_stimuli.shape}\")\n",
    "\n",
    "# These assertions will now pass because the shape is preserved\n",
    "assert flattened_on_stimuli.shape == flattened_stim.shape, \"The shape of flattened_on_stimuli does not match the shape of flattened_stim.\"\n",
    "assert flattened_off_stimuli.shape == flattened_stim.shape, \"The shape of flattened_off_stimuli does not match the shape of flattened_stim.\"\n",
    "\n",
    "print(\"\\nAssertions passed! The shapes are now correct.\")"
   ]
  },
  {
   "cell_type": "code",
   "execution_count": 18,
   "id": "8435b745",
   "metadata": {},
   "outputs": [
    {
     "name": "stdout",
     "output_type": "stream",
     "text": [
      "(448, 62521)\n"
     ]
    }
   ],
   "source": [
    "print(flattened_off_stimuli.shape)"
   ]
  },
  {
   "cell_type": "code",
   "execution_count": 19,
   "id": "3506751f",
   "metadata": {},
   "outputs": [],
   "source": [
    "from scipy.special import gammaln\n",
    "\n",
    "\n",
    "def negloglike_lnp(\n",
    "    w: np.array, c: np.array, s: np.array, dt: float = 0.1, R: float = 50\n",
    ") -> float:\n",
    "    \"\"\"Implements the negative (!) log-likelihood of the LNP model\n",
    "\n",
    "    Parameters\n",
    "    ----------\n",
    "\n",
    "    w: np.array, (Dx * Dy, )\n",
    "      current receptive field\n",
    "\n",
    "    c: np.array, (nT, )\n",
    "      spike counts\n",
    "\n",
    "    s: np.array, (Dx * Dy, nT)\n",
    "      stimulus matrix\n",
    "\n",
    "\n",
    "    Returns\n",
    "    -------\n",
    "\n",
    "    f: float\n",
    "      function value of the negative log likelihood at w\n",
    "\n",
    "    \"\"\"\n",
    "\n",
    "    # ------------------------------------------------\n",
    "    # Implement the negative log-likelihood of the LNP\n",
    "    # ------------------------------------------------\n",
    "\n",
    "    w = w.ravel()  # ensure shape (D,)\n",
    "    lin = w @ s  # shape (nT,)\n",
    "    rates = np.exp(lin) * dt * R  # shape (nT,)\n",
    "\n",
    "    # term1: ∑ c_t · (w^T s_t)\n",
    "    term1 = np.dot(c, lin)\n",
    "\n",
    "    # term2: ∑ exp(w^T s_t) · (Δt·R)\n",
    "    term2 = rates.sum()\n",
    "\n",
    "    # term3: ∑ log(c_t!) = ∑ gam    # --- Lmaln(c_t + 1)\n",
    "    c = np.asarray(c, dtype=np.float64)\n",
    "\n",
    "    term3 = gammaln(c + 1).sum()\n",
    "\n",
    "    # term4: ∑ c_t · log(Δt·R)\n",
    "    log_dtR = np.log(dt * R)\n",
    "    term4 = (c * log_dtR).sum()\n",
    "\n",
    "    # full log-likelihood\n",
    "    logL = term1 - term2 - term3 + term4\n",
    "\n",
    "    # return *negative* log-likelihood\n",
    "    return -logL\n",
    "\n",
    "\n",
    "def deriv_negloglike_lnp(\n",
    "    w: np.array, c: np.array, s: np.array, dt: float = 0.1, R: float = 50\n",
    ") -> np.array:\n",
    "    \"\"\"\n",
    "    Implements the gradient of the negative log-likelihood of the LNP model\n",
    "\n",
    "    Parameters\n",
    "    ----------\n",
    "\n",
    "    see negloglike_lnp\n",
    "\n",
    "    Returns\n",
    "    -------\n",
    "\n",
    "    df: np.array, (Dx * Dy, )\n",
    "      gradient of the negative log likelihood with respect to w\n",
    "    \"\"\"\n",
    "    w = w.ravel()  # ensure shape (D*D,)\n",
    "    lin = w @ s  # shape (nT,)\n",
    "    rates = np.exp(lin) * dt * R\n",
    "\n",
    "    # gradient = ∑_t (r_t - c_t) s_t\n",
    "    grad = s @ (rates - c)  # shape (D*D,)\n",
    "    return grad\n",
    "\n",
    "def negloglike_lnp_l1(\n",
    "    w: np.array, c: np.array, s: np.array, dt: float = 0.1, R: float = 50, lambda_l1: float = 1e-3\n",
    ") -> float:\n",
    "    negloglike = negloglike_lnp(w, c, s, dt, R)\n",
    "    l1_penalty = lambda_l1 * np.sum(np.abs(w))\n",
    "    return negloglike + l1_penalty\n",
    "\n",
    "\n",
    "def deriv_negloglike_lnp_l1(\n",
    "    w: np.array, c: np.array, s: np.array, dt: float = 0.1, R: float = 50, lambda_l1: float = 1e-3\n",
    ") -> np.array:\n",
    "    grad = deriv_negloglike_lnp(w, c, s, dt, R)\n",
    "    # Gradient of L1 norm is sign(w), subgradient at 0 can be taken as 0 or ±1; here we use sign(w)\n",
    "    grad += lambda_l1 * np.sign(w)\n",
    "    return grad\n",
    "\n"
   ]
  },
  {
   "cell_type": "code",
   "execution_count": 26,
   "id": "a13a1dfd",
   "metadata": {},
   "outputs": [
    {
     "name": "stdout",
     "output_type": "stream",
     "text": [
      "Fitting RF for neuron 1/189...\n"
     ]
    },
    {
     "name": "stderr",
     "output_type": "stream",
     "text": [
      "Optimizing LNP:   0%|          | 0/500 [00:00<?, ?it/s]"
     ]
    },
    {
     "ename": "KeyboardInterrupt",
     "evalue": "",
     "output_type": "error",
     "traceback": [
      "\u001b[31m---------------------------------------------------------------------------\u001b[39m",
      "\u001b[31mKeyboardInterrupt\u001b[39m                         Traceback (most recent call last)",
      "\u001b[36mCell\u001b[39m\u001b[36m \u001b[39m\u001b[32mIn[26]\u001b[39m\u001b[32m, line 59\u001b[39m\n\u001b[32m     56\u001b[39m \u001b[38;5;28;01mdef\u001b[39;00m\u001b[38;5;250m \u001b[39m\u001b[34mcallbackF\u001b[39m(xk):\n\u001b[32m     57\u001b[39m     pbar.update(\u001b[32m1\u001b[39m)\n\u001b[32m---> \u001b[39m\u001b[32m59\u001b[39m result = \u001b[43mminimize\u001b[49m\u001b[43m(\u001b[49m\n\u001b[32m     60\u001b[39m \u001b[43m    \u001b[49m\u001b[43mfun\u001b[49m\u001b[43m=\u001b[49m\u001b[43mnegloglike_lnp\u001b[49m\u001b[43m,\u001b[49m\n\u001b[32m     61\u001b[39m \u001b[43m    \u001b[49m\u001b[43mx0\u001b[49m\u001b[43m=\u001b[49m\u001b[43mw0\u001b[49m\u001b[43m,\u001b[49m\n\u001b[32m     62\u001b[39m \u001b[43m    \u001b[49m\u001b[43margs\u001b[49m\u001b[43m=\u001b[49m\u001b[43m(\u001b[49m\u001b[43mc\u001b[49m\u001b[43m,\u001b[49m\u001b[43m \u001b[49m\u001b[43mlagged_stimuli\u001b[49m\u001b[43m,\u001b[49m\u001b[43m \u001b[49m\u001b[43mdt\u001b[49m\u001b[43m,\u001b[49m\u001b[43m \u001b[49m\u001b[43mR\u001b[49m\u001b[43m)\u001b[49m\u001b[43m,\u001b[49m\n\u001b[32m     63\u001b[39m \u001b[43m    \u001b[49m\u001b[43mjac\u001b[49m\u001b[43m=\u001b[49m\u001b[43mderiv_negloglike_lnp\u001b[49m\u001b[43m,\u001b[49m\n\u001b[32m     64\u001b[39m \u001b[43m    \u001b[49m\u001b[43mmethod\u001b[49m\u001b[43m=\u001b[49m\u001b[33;43m'\u001b[39;49m\u001b[33;43mL-BFGS-B\u001b[39;49m\u001b[33;43m'\u001b[39;49m\u001b[43m,\u001b[49m\n\u001b[32m     65\u001b[39m \u001b[43m    \u001b[49m\u001b[43mcallback\u001b[49m\u001b[43m=\u001b[49m\u001b[43mcallbackF\u001b[49m\u001b[43m,\u001b[49m\n\u001b[32m     66\u001b[39m \u001b[43m    \u001b[49m\u001b[43moptions\u001b[49m\u001b[43m=\u001b[49m\u001b[43m{\u001b[49m\u001b[33;43m'\u001b[39;49m\u001b[33;43mmaxiter\u001b[39;49m\u001b[33;43m'\u001b[39;49m\u001b[43m:\u001b[49m\u001b[43m \u001b[49m\u001b[43mmax_iters\u001b[49m\u001b[43m,\u001b[49m\u001b[43m \u001b[49m\u001b[33;43m'\u001b[39;49m\u001b[33;43mdisp\u001b[39;49m\u001b[33;43m'\u001b[39;49m\u001b[43m:\u001b[49m\u001b[43m \u001b[49m\u001b[38;5;28;43;01mTrue\u001b[39;49;00m\u001b[43m}\u001b[49m\n\u001b[32m     67\u001b[39m \u001b[43m\u001b[49m\u001b[43m)\u001b[49m\n\u001b[32m     69\u001b[39m pbar.close()\n\u001b[32m     72\u001b[39m \u001b[38;5;28;01mif\u001b[39;00m result.success:\n",
      "\u001b[36mFile \u001b[39m\u001b[32m~/anaconda3/envs/calcium-env/lib/python3.11/site-packages/scipy/optimize/_minimize.py:738\u001b[39m, in \u001b[36mminimize\u001b[39m\u001b[34m(fun, x0, args, method, jac, hess, hessp, bounds, constraints, tol, callback, options)\u001b[39m\n\u001b[32m    735\u001b[39m     res = _minimize_newtoncg(fun, x0, args, jac, hess, hessp, callback,\n\u001b[32m    736\u001b[39m                              **options)\n\u001b[32m    737\u001b[39m \u001b[38;5;28;01melif\u001b[39;00m meth == \u001b[33m'\u001b[39m\u001b[33ml-bfgs-b\u001b[39m\u001b[33m'\u001b[39m:\n\u001b[32m--> \u001b[39m\u001b[32m738\u001b[39m     res = \u001b[43m_minimize_lbfgsb\u001b[49m\u001b[43m(\u001b[49m\u001b[43mfun\u001b[49m\u001b[43m,\u001b[49m\u001b[43m \u001b[49m\u001b[43mx0\u001b[49m\u001b[43m,\u001b[49m\u001b[43m \u001b[49m\u001b[43margs\u001b[49m\u001b[43m,\u001b[49m\u001b[43m \u001b[49m\u001b[43mjac\u001b[49m\u001b[43m,\u001b[49m\u001b[43m \u001b[49m\u001b[43mbounds\u001b[49m\u001b[43m,\u001b[49m\n\u001b[32m    739\u001b[39m \u001b[43m                           \u001b[49m\u001b[43mcallback\u001b[49m\u001b[43m=\u001b[49m\u001b[43mcallback\u001b[49m\u001b[43m,\u001b[49m\u001b[43m \u001b[49m\u001b[43m*\u001b[49m\u001b[43m*\u001b[49m\u001b[43moptions\u001b[49m\u001b[43m)\u001b[49m\n\u001b[32m    740\u001b[39m \u001b[38;5;28;01melif\u001b[39;00m meth == \u001b[33m'\u001b[39m\u001b[33mtnc\u001b[39m\u001b[33m'\u001b[39m:\n\u001b[32m    741\u001b[39m     res = _minimize_tnc(fun, x0, args, jac, bounds, callback=callback,\n\u001b[32m    742\u001b[39m                         **options)\n",
      "\u001b[36mFile \u001b[39m\u001b[32m~/anaconda3/envs/calcium-env/lib/python3.11/site-packages/scipy/optimize/_lbfgsb_py.py:386\u001b[39m, in \u001b[36m_minimize_lbfgsb\u001b[39m\u001b[34m(fun, x0, args, jac, bounds, disp, maxcor, ftol, gtol, eps, maxfun, maxiter, iprint, callback, maxls, finite_diff_rel_step, **unknown_options)\u001b[39m\n\u001b[32m    383\u001b[39m     x0 = np.clip(x0, bounds[\u001b[32m0\u001b[39m], bounds[\u001b[32m1\u001b[39m])\n\u001b[32m    385\u001b[39m \u001b[38;5;66;03m# _prepare_scalar_function can use bounds=None to represent no bounds\u001b[39;00m\n\u001b[32m--> \u001b[39m\u001b[32m386\u001b[39m sf = \u001b[43m_prepare_scalar_function\u001b[49m\u001b[43m(\u001b[49m\u001b[43mfun\u001b[49m\u001b[43m,\u001b[49m\u001b[43m \u001b[49m\u001b[43mx0\u001b[49m\u001b[43m,\u001b[49m\u001b[43m \u001b[49m\u001b[43mjac\u001b[49m\u001b[43m=\u001b[49m\u001b[43mjac\u001b[49m\u001b[43m,\u001b[49m\u001b[43m \u001b[49m\u001b[43margs\u001b[49m\u001b[43m=\u001b[49m\u001b[43margs\u001b[49m\u001b[43m,\u001b[49m\u001b[43m \u001b[49m\u001b[43mepsilon\u001b[49m\u001b[43m=\u001b[49m\u001b[43meps\u001b[49m\u001b[43m,\u001b[49m\n\u001b[32m    387\u001b[39m \u001b[43m                              \u001b[49m\u001b[43mbounds\u001b[49m\u001b[43m=\u001b[49m\u001b[43mbounds\u001b[49m\u001b[43m,\u001b[49m\n\u001b[32m    388\u001b[39m \u001b[43m                              \u001b[49m\u001b[43mfinite_diff_rel_step\u001b[49m\u001b[43m=\u001b[49m\u001b[43mfinite_diff_rel_step\u001b[49m\u001b[43m)\u001b[49m\n\u001b[32m    390\u001b[39m func_and_grad = sf.fun_and_grad\n\u001b[32m    392\u001b[39m nbd = zeros(n, np.int32)\n",
      "\u001b[36mFile \u001b[39m\u001b[32m~/anaconda3/envs/calcium-env/lib/python3.11/site-packages/scipy/optimize/_optimize.py:291\u001b[39m, in \u001b[36m_prepare_scalar_function\u001b[39m\u001b[34m(fun, x0, jac, args, bounds, epsilon, finite_diff_rel_step, hess)\u001b[39m\n\u001b[32m    287\u001b[39m     bounds = (-np.inf, np.inf)\n\u001b[32m    289\u001b[39m \u001b[38;5;66;03m# ScalarFunction caches. Reuse of fun(x) during grad\u001b[39;00m\n\u001b[32m    290\u001b[39m \u001b[38;5;66;03m# calculation reduces overall function evaluations.\u001b[39;00m\n\u001b[32m--> \u001b[39m\u001b[32m291\u001b[39m sf = \u001b[43mScalarFunction\u001b[49m\u001b[43m(\u001b[49m\u001b[43mfun\u001b[49m\u001b[43m,\u001b[49m\u001b[43m \u001b[49m\u001b[43mx0\u001b[49m\u001b[43m,\u001b[49m\u001b[43m \u001b[49m\u001b[43margs\u001b[49m\u001b[43m,\u001b[49m\u001b[43m \u001b[49m\u001b[43mgrad\u001b[49m\u001b[43m,\u001b[49m\u001b[43m \u001b[49m\u001b[43mhess\u001b[49m\u001b[43m,\u001b[49m\n\u001b[32m    292\u001b[39m \u001b[43m                    \u001b[49m\u001b[43mfinite_diff_rel_step\u001b[49m\u001b[43m,\u001b[49m\u001b[43m \u001b[49m\u001b[43mbounds\u001b[49m\u001b[43m,\u001b[49m\u001b[43m \u001b[49m\u001b[43mepsilon\u001b[49m\u001b[43m=\u001b[49m\u001b[43mepsilon\u001b[49m\u001b[43m)\u001b[49m\n\u001b[32m    294\u001b[39m \u001b[38;5;28;01mreturn\u001b[39;00m sf\n",
      "\u001b[36mFile \u001b[39m\u001b[32m~/anaconda3/envs/calcium-env/lib/python3.11/site-packages/scipy/optimize/_differentiable_functions.py:232\u001b[39m, in \u001b[36mScalarFunction.__init__\u001b[39m\u001b[34m(self, fun, x0, args, grad, hess, finite_diff_rel_step, finite_diff_bounds, epsilon)\u001b[39m\n\u001b[32m    225\u001b[39m \u001b[38;5;66;03m# Initial gradient evaluation\u001b[39;00m\n\u001b[32m    226\u001b[39m \u001b[38;5;28mself\u001b[39m._wrapped_grad, \u001b[38;5;28mself\u001b[39m._ngev = _wrapper_grad(\n\u001b[32m    227\u001b[39m     grad,\n\u001b[32m    228\u001b[39m     fun=\u001b[38;5;28mself\u001b[39m._wrapped_fun,\n\u001b[32m    229\u001b[39m     args=args,\n\u001b[32m    230\u001b[39m     finite_diff_options=finite_diff_options\n\u001b[32m    231\u001b[39m )\n\u001b[32m--> \u001b[39m\u001b[32m232\u001b[39m \u001b[38;5;28;43mself\u001b[39;49m\u001b[43m.\u001b[49m\u001b[43m_update_grad\u001b[49m\u001b[43m(\u001b[49m\u001b[43m)\u001b[49m\n\u001b[32m    234\u001b[39m \u001b[38;5;66;03m# Hessian evaluation\u001b[39;00m\n\u001b[32m    235\u001b[39m \u001b[38;5;28;01mif\u001b[39;00m \u001b[38;5;28mcallable\u001b[39m(hess):\n",
      "\u001b[36mFile \u001b[39m\u001b[32m~/anaconda3/envs/calcium-env/lib/python3.11/site-packages/scipy/optimize/_differentiable_functions.py:307\u001b[39m, in \u001b[36mScalarFunction._update_grad\u001b[39m\u001b[34m(self)\u001b[39m\n\u001b[32m    305\u001b[39m \u001b[38;5;28;01mif\u001b[39;00m \u001b[38;5;28mself\u001b[39m._orig_grad \u001b[38;5;129;01min\u001b[39;00m FD_METHODS:\n\u001b[32m    306\u001b[39m     \u001b[38;5;28mself\u001b[39m._update_fun()\n\u001b[32m--> \u001b[39m\u001b[32m307\u001b[39m \u001b[38;5;28mself\u001b[39m.g = \u001b[38;5;28;43mself\u001b[39;49m\u001b[43m.\u001b[49m\u001b[43m_wrapped_grad\u001b[49m\u001b[43m(\u001b[49m\u001b[38;5;28;43mself\u001b[39;49m\u001b[43m.\u001b[49m\u001b[43mx\u001b[49m\u001b[43m,\u001b[49m\u001b[43m \u001b[49m\u001b[43mf0\u001b[49m\u001b[43m=\u001b[49m\u001b[38;5;28;43mself\u001b[39;49m\u001b[43m.\u001b[49m\u001b[43mf\u001b[49m\u001b[43m)\u001b[49m\n\u001b[32m    308\u001b[39m \u001b[38;5;28mself\u001b[39m.g_updated = \u001b[38;5;28;01mTrue\u001b[39;00m\n",
      "\u001b[36mFile \u001b[39m\u001b[32m~/anaconda3/envs/calcium-env/lib/python3.11/site-packages/scipy/optimize/_differentiable_functions.py:42\u001b[39m, in \u001b[36m_wrapper_grad.<locals>.wrapped\u001b[39m\u001b[34m(x, **kwds)\u001b[39m\n\u001b[32m     39\u001b[39m \u001b[38;5;28;01mdef\u001b[39;00m\u001b[38;5;250m \u001b[39m\u001b[34mwrapped\u001b[39m(x, **kwds):\n\u001b[32m     40\u001b[39m     \u001b[38;5;66;03m# kwds present to give function same signature as numdiff variant\u001b[39;00m\n\u001b[32m     41\u001b[39m     ncalls[\u001b[32m0\u001b[39m] += \u001b[32m1\u001b[39m\n\u001b[32m---> \u001b[39m\u001b[32m42\u001b[39m     \u001b[38;5;28;01mreturn\u001b[39;00m np.atleast_1d(\u001b[43mgrad\u001b[49m\u001b[43m(\u001b[49m\u001b[43mnp\u001b[49m\u001b[43m.\u001b[49m\u001b[43mcopy\u001b[49m\u001b[43m(\u001b[49m\u001b[43mx\u001b[49m\u001b[43m)\u001b[49m\u001b[43m,\u001b[49m\u001b[43m \u001b[49m\u001b[43m*\u001b[49m\u001b[43margs\u001b[49m\u001b[43m)\u001b[49m)\n",
      "\u001b[31mKeyboardInterrupt\u001b[39m: "
     ]
    }
   ],
   "source": [
    "import numpy as np\n",
    "from scipy.optimize import minimize\n",
    "\n",
    "def build_lagged_stimulus_matrix(flattened_stim, n_lags):\n",
    "    \"\"\"\n",
    "    flattened_stim: shape (num_pixels, num_timepoints)\n",
    "    n_lags: number of time lags to include\n",
    "    \n",
    "    Returns:\n",
    "      lagged_stim: shape (num_pixels * n_lags, num_timepoints - n_lags + 1)\n",
    "    \"\"\"\n",
    "    num_pixels, num_timepoints = flattened_stim.shape\n",
    "    lagged_stim = []\n",
    "\n",
    "    for lag in range(n_lags):\n",
    "        lagged_stim.append(flattened_stim[:, lag:num_timepoints - (n_lags - lag - 1)])\n",
    "\n",
    "    return np.vstack(lagged_stim)\n",
    "\n",
    "# Parameters for lag and LNP model\n",
    "n_lags = 10   # number of temporal lags to include, tune as you want\n",
    "dt = 0.1     # time bin size, adjust if needed\n",
    "R = 50       # max firing rate, adjust if needed\n",
    "\n",
    "# Assume you already have these from previous steps\n",
    "# binned_spikes: shape (num_neurons, num_timepoints)\n",
    "# flattened_on_stimuli: shape (num_pixels, num_timepoints)\n",
    "\n",
    "num_neurons = binned_spikes.shape[0]\n",
    "num_pixels = flattened_on_stimuli.shape[0]\n",
    "\n",
    "# Build lagged stimulus matrix\n",
    "lagged_stimuli = build_lagged_stimulus_matrix(flattened_on_stimuli, n_lags)\n",
    "\n",
    "# New number of time points after lagging\n",
    "num_timepoints_lagged = lagged_stimuli.shape[1]\n",
    "\n",
    "receptive_fields = np.zeros((num_neurons, num_pixels * n_lags))\n",
    "\n",
    "for neuron_idx in range(num_neurons):\n",
    "    print(f\"Fitting RF for neuron {neuron_idx + 1}/{num_neurons}...\")\n",
    "\n",
    "    # Trim spike counts to match lagged stimulus time dimension\n",
    "    c = binned_spikes[neuron_idx, n_lags - 1 : n_lags - 1 + num_timepoints_lagged]\n",
    "\n",
    "    # Initialize weights (receptive field) vector for this neuron\n",
    "    w0 = np.zeros(num_pixels * n_lags)\n",
    "\n",
    "    # Run optimization to minimize negative log-likelihood\n",
    "    from tqdm import tqdm\n",
    "\n",
    "    max_iters = 500\n",
    "    pbar = tqdm(total=max_iters, desc=\"Optimizing LNP\")\n",
    "\n",
    "    # Define a callback function to update tqdm\n",
    "    def callbackF(xk):\n",
    "        pbar.update(1)\n",
    "\n",
    "    result = minimize(\n",
    "        fun=negloglike_lnp,\n",
    "        x0=w0,\n",
    "        args=(c, lagged_stimuli, dt, R),\n",
    "        jac=deriv_negloglike_lnp,\n",
    "        method='L-BFGS-B',\n",
    "        callback=callbackF,\n",
    "        options={'maxiter': max_iters, 'disp': True}\n",
    "    )\n",
    "\n",
    "    pbar.close()\n",
    "\n",
    "\n",
    "    if result.success:\n",
    "        receptive_fields[neuron_idx, :] = result.x\n",
    "    else:\n",
    "        print(f\"Optimization failed for neuron {neuron_idx}: {result.message}\")\n",
    "\n",
    "print(\"Done fitting receptive fields with lag!\")\n"
   ]
  },
  {
   "cell_type": "code",
   "execution_count": 28,
   "id": "7e62f05b",
   "metadata": {},
   "outputs": [
    {
     "name": "stderr",
     "output_type": "stream",
     "text": [
      "Optimizing LNP:   5%|▍         | 23/500 [03:13<1:06:55,  8.42s/it]"
     ]
    },
    {
     "name": "stderr",
     "output_type": "stream",
     "text": [
      "\n",
      "Optimizing LNP:  20%|█▉        | 99/500 [08:28<34:18,  5.13s/it] "
     ]
    },
    {
     "name": "stdout",
     "output_type": "stream",
     "text": [
      "Neuron 32 receptive field fitted successfully!\n"
     ]
    },
    {
     "name": "stderr",
     "output_type": "stream",
     "text": [
      "\n"
     ]
    }
   ],
   "source": [
    "neuron_idx = 31  # neuron 32 in zero-based indexing\n",
    "n_lags = 7\n",
    "\n",
    "# Build lagged stimulus matrix if you haven't already\n",
    "lagged_stimuli = build_lagged_stimulus_matrix(flattened_on_stimuli, n_lags)\n",
    "\n",
    "num_timepoints_lagged = lagged_stimuli.shape[1]\n",
    "num_pixels = flattened_on_stimuli.shape[0]\n",
    "\n",
    "# Trim spike counts for this neuron to match lagged stimulus length\n",
    "c = binned_spikes[neuron_idx, n_lags - 1 : n_lags - 1 + num_timepoints_lagged]\n",
    "\n",
    "# Initialize receptive field vector\n",
    "w0 = np.zeros(num_pixels * n_lags)\n",
    "\n",
    "from tqdm import tqdm\n",
    "\n",
    "max_iters = 500\n",
    "pbar = tqdm(total=max_iters, desc=\"Optimizing LNP\")\n",
    "\n",
    "# Define a callback function to update tqdm\n",
    "def callbackF(xk):\n",
    "    pbar.update(1)\n",
    "\n",
    "result = minimize(\n",
    "    fun=negloglike_lnp,\n",
    "    x0=w0,\n",
    "    args=(c, lagged_stimuli, dt, R),\n",
    "    jac=deriv_negloglike_lnp,\n",
    "    method='L-BFGS-B',\n",
    "    callback=callbackF,\n",
    "    options={'maxiter': max_iters, 'disp': True}\n",
    ")\n",
    "\n",
    "pbar.close()\n",
    "\n",
    "\n",
    "if result.success:\n",
    "    rf_neuron_32 = result.x\n",
    "    print(\"Neuron 32 receptive field fitted successfully!\")\n",
    "else:\n",
    "    print(f\"Optimization failed for neuron 32: {result.message}\")\n"
   ]
  },
  {
   "cell_type": "code",
   "execution_count": 29,
   "id": "b3254d52",
   "metadata": {},
   "outputs": [
    {
     "data": {
      "image/png": "[encoded data removed]",
      "text/plain": [
       "<Figure size 2100x300 with 8 Axes>"
      ]
     },
     "metadata": {},
     "output_type": "display_data"
    }
   ],
   "source": [
    "import matplotlib.pyplot as plt\n",
    "\n",
    "# Assuming you have stim_h and stim_w from your earlier stimulus prep\n",
    "# For example:\n",
    "# stim_h, stim_w = height and width of the stimulus frame\n",
    "\n",
    "# Reshape the RF vector into (n_lags, stim_h, stim_w)\n",
    "rf_reshaped = rf_neuron_32.reshape(n_lags, stim_h, stim_w)\n",
    "\n",
    "# Plot each temporal lag as a separate subplot\n",
    "fig, axes = plt.subplots(1, n_lags, figsize=(3 * n_lags, 3))\n",
    "\n",
    "for lag in range(n_lags):\n",
    "    ax = axes[lag]\n",
    "    im = ax.imshow(rf_reshaped[lag], cmap='bwr', vmin=-np.max(np.abs(rf_reshaped)), vmax=np.max(np.abs(rf_reshaped)))\n",
    "    ax.set_title(f'Lag {lag+1}')\n",
    "    ax.axis('off')\n",
    "\n",
    "fig.suptitle('Neuron 32 Receptive Field Across Lags')\n",
    "plt.colorbar(im, ax=axes.ravel().tolist(), shrink=0.5)\n",
    "plt.show()\n"
   ]
  },
  {
   "cell_type": "code",
   "execution_count": null,
   "id": "4b3411e2",
   "metadata": {},
   "outputs": [
    {
     "ename": "NameError",
     "evalue": "name 'iteration' is not defined",
     "output_type": "error",
     "traceback": [
      "\u001b[31m---------------------------------------------------------------------------\u001b[39m",
      "\u001b[31mNameError\u001b[39m                                 Traceback (most recent call last)",
      "\u001b[36mCell\u001b[39m\u001b[36m \u001b[39m\u001b[32mIn[32]\u001b[39m\u001b[32m, line 15\u001b[39m\n\u001b[32m     11\u001b[39m     current_loss = negloglike_lnp_l1(xk, c, lagged_stimuli, dt, R, lambda_l1)\n\u001b[32m     12\u001b[39m     \u001b[38;5;28mprint\u001b[39m(\u001b[33mf\u001b[39m\u001b[33m\"\u001b[39m\u001b[33mIteration \u001b[39m\u001b[38;5;132;01m{\u001b[39;00miteration\u001b[38;5;132;01m}\u001b[39;00m\u001b[33m: loss = \u001b[39m\u001b[38;5;132;01m{\u001b[39;00mcurrent_loss\u001b[38;5;132;01m:\u001b[39;00m\u001b[33m.4f\u001b[39m\u001b[38;5;132;01m}\u001b[39;00m\u001b[33m\"\u001b[39m)\n\u001b[32m---> \u001b[39m\u001b[32m15\u001b[39m result = \u001b[43mminimize\u001b[49m\u001b[43m(\u001b[49m\n\u001b[32m     16\u001b[39m \u001b[43m    \u001b[49m\u001b[43mfun\u001b[49m\u001b[43m=\u001b[49m\u001b[43mnegloglike_lnp_l1\u001b[49m\u001b[43m,\u001b[49m\n\u001b[32m     17\u001b[39m \u001b[43m    \u001b[49m\u001b[43mx0\u001b[49m\u001b[43m=\u001b[49m\u001b[43mw0\u001b[49m\u001b[43m,\u001b[49m\n\u001b[32m     18\u001b[39m \u001b[43m    \u001b[49m\u001b[43margs\u001b[49m\u001b[43m=\u001b[49m\u001b[43m(\u001b[49m\u001b[43mc\u001b[49m\u001b[43m,\u001b[49m\u001b[43m \u001b[49m\u001b[43mlagged_stimuli\u001b[49m\u001b[43m,\u001b[49m\u001b[43m \u001b[49m\u001b[43mdt\u001b[49m\u001b[43m,\u001b[49m\u001b[43m \u001b[49m\u001b[43mR\u001b[49m\u001b[43m,\u001b[49m\u001b[43m \u001b[49m\u001b[43mlambda_l1\u001b[49m\u001b[43m)\u001b[49m\u001b[43m,\u001b[49m\n\u001b[32m     19\u001b[39m \u001b[43m    \u001b[49m\u001b[43mjac\u001b[49m\u001b[43m=\u001b[49m\u001b[43mderiv_negloglike_lnp_l1\u001b[49m\u001b[43m,\u001b[49m\n\u001b[32m     20\u001b[39m \u001b[43m    \u001b[49m\u001b[43mmethod\u001b[49m\u001b[43m=\u001b[49m\u001b[33;43m'\u001b[39;49m\u001b[33;43mL-BFGS-B\u001b[39;49m\u001b[33;43m'\u001b[39;49m\u001b[43m,\u001b[49m\n\u001b[32m     21\u001b[39m \u001b[43m    \u001b[49m\u001b[43mcallback\u001b[49m\u001b[43m=\u001b[49m\u001b[43mcallbackF\u001b[49m\u001b[43m,\u001b[49m\n\u001b[32m     22\u001b[39m \u001b[43m    \u001b[49m\u001b[43moptions\u001b[49m\u001b[43m=\u001b[49m\u001b[43m{\u001b[49m\u001b[33;43m'\u001b[39;49m\u001b[33;43mmaxiter\u001b[39;49m\u001b[33;43m'\u001b[39;49m\u001b[43m:\u001b[49m\u001b[43m \u001b[49m\u001b[32;43m500\u001b[39;49m\u001b[43m,\u001b[49m\u001b[43m \u001b[49m\u001b[33;43m'\u001b[39;49m\u001b[33;43mdisp\u001b[39;49m\u001b[33;43m'\u001b[39;49m\u001b[43m:\u001b[49m\u001b[43m \u001b[49m\u001b[38;5;28;43;01mTrue\u001b[39;49;00m\u001b[43m}\u001b[49m\n\u001b[32m     23\u001b[39m \u001b[43m)\u001b[49m\n\u001b[32m     25\u001b[39m \u001b[38;5;28;01mif\u001b[39;00m result.success:\n\u001b[32m     26\u001b[39m     receptive_field_l1 = result.x\n",
      "\u001b[36mFile \u001b[39m\u001b[32m~/anaconda3/envs/calcium-env/lib/python3.11/site-packages/scipy/optimize/_minimize.py:738\u001b[39m, in \u001b[36mminimize\u001b[39m\u001b[34m(fun, x0, args, method, jac, hess, hessp, bounds, constraints, tol, callback, options)\u001b[39m\n\u001b[32m    735\u001b[39m     res = _minimize_newtoncg(fun, x0, args, jac, hess, hessp, callback,\n\u001b[32m    736\u001b[39m                              **options)\n\u001b[32m    737\u001b[39m \u001b[38;5;28;01melif\u001b[39;00m meth == \u001b[33m'\u001b[39m\u001b[33ml-bfgs-b\u001b[39m\u001b[33m'\u001b[39m:\n\u001b[32m--> \u001b[39m\u001b[32m738\u001b[39m     res = \u001b[43m_minimize_lbfgsb\u001b[49m\u001b[43m(\u001b[49m\u001b[43mfun\u001b[49m\u001b[43m,\u001b[49m\u001b[43m \u001b[49m\u001b[43mx0\u001b[49m\u001b[43m,\u001b[49m\u001b[43m \u001b[49m\u001b[43margs\u001b[49m\u001b[43m,\u001b[49m\u001b[43m \u001b[49m\u001b[43mjac\u001b[49m\u001b[43m,\u001b[49m\u001b[43m \u001b[49m\u001b[43mbounds\u001b[49m\u001b[43m,\u001b[49m\n\u001b[32m    739\u001b[39m \u001b[43m                           \u001b[49m\u001b[43mcallback\u001b[49m\u001b[43m=\u001b[49m\u001b[43mcallback\u001b[49m\u001b[43m,\u001b[49m\u001b[43m \u001b[49m\u001b[43m*\u001b[49m\u001b[43m*\u001b[49m\u001b[43moptions\u001b[49m\u001b[43m)\u001b[49m\n\u001b[32m    740\u001b[39m \u001b[38;5;28;01melif\u001b[39;00m meth == \u001b[33m'\u001b[39m\u001b[33mtnc\u001b[39m\u001b[33m'\u001b[39m:\n\u001b[32m    741\u001b[39m     res = _minimize_tnc(fun, x0, args, jac, bounds, callback=callback,\n\u001b[32m    742\u001b[39m                         **options)\n",
      "\u001b[36mFile \u001b[39m\u001b[32m~/anaconda3/envs/calcium-env/lib/python3.11/site-packages/scipy/optimize/_lbfgsb_py.py:447\u001b[39m, in \u001b[36m_minimize_lbfgsb\u001b[39m\u001b[34m(fun, x0, args, jac, bounds, disp, maxcor, ftol, gtol, eps, maxfun, maxiter, iprint, callback, maxls, finite_diff_rel_step, **unknown_options)\u001b[39m\n\u001b[32m    444\u001b[39m n_iterations += \u001b[32m1\u001b[39m\n\u001b[32m    446\u001b[39m intermediate_result = OptimizeResult(x=x, fun=f)\n\u001b[32m--> \u001b[39m\u001b[32m447\u001b[39m \u001b[38;5;28;01mif\u001b[39;00m \u001b[43m_call_callback_maybe_halt\u001b[49m\u001b[43m(\u001b[49m\u001b[43mcallback\u001b[49m\u001b[43m,\u001b[49m\u001b[43m \u001b[49m\u001b[43mintermediate_result\u001b[49m\u001b[43m)\u001b[49m:\n\u001b[32m    448\u001b[39m     task[\u001b[32m0\u001b[39m] = \u001b[32m5\u001b[39m\n\u001b[32m    449\u001b[39m     task[\u001b[32m1\u001b[39m] = \u001b[32m505\u001b[39m\n",
      "\u001b[36mFile \u001b[39m\u001b[32m~/anaconda3/envs/calcium-env/lib/python3.11/site-packages/scipy/_lib/_util.py:1080\u001b[39m, in \u001b[36m_call_callback_maybe_halt\u001b[39m\u001b[34m(callback, res)\u001b[39m\n\u001b[32m   1078\u001b[39m     \u001b[38;5;28;01mreturn\u001b[39;00m \u001b[38;5;28;01mFalse\u001b[39;00m\n\u001b[32m   1079\u001b[39m \u001b[38;5;28;01mtry\u001b[39;00m:\n\u001b[32m-> \u001b[39m\u001b[32m1080\u001b[39m     \u001b[43mcallback\u001b[49m\u001b[43m(\u001b[49m\u001b[43mres\u001b[49m\u001b[43m)\u001b[49m\n\u001b[32m   1081\u001b[39m     \u001b[38;5;28;01mreturn\u001b[39;00m \u001b[38;5;28;01mFalse\u001b[39;00m\n\u001b[32m   1082\u001b[39m \u001b[38;5;28;01mexcept\u001b[39;00m \u001b[38;5;167;01mStopIteration\u001b[39;00m:\n",
      "\u001b[36mFile \u001b[39m\u001b[32m~/anaconda3/envs/calcium-env/lib/python3.11/site-packages/scipy/optimize/_optimize.py:106\u001b[39m, in \u001b[36m_wrap_callback.<locals>.wrapped_callback\u001b[39m\u001b[34m(res)\u001b[39m\n\u001b[32m    105\u001b[39m \u001b[38;5;28;01mdef\u001b[39;00m\u001b[38;5;250m \u001b[39m\u001b[34mwrapped_callback\u001b[39m(res):\n\u001b[32m--> \u001b[39m\u001b[32m106\u001b[39m     \u001b[38;5;28;01mreturn\u001b[39;00m \u001b[43mcallback\u001b[49m\u001b[43m(\u001b[49m\u001b[43mnp\u001b[49m\u001b[43m.\u001b[49m\u001b[43mcopy\u001b[49m\u001b[43m(\u001b[49m\u001b[43mres\u001b[49m\u001b[43m.\u001b[49m\u001b[43mx\u001b[49m\u001b[43m)\u001b[49m\u001b[43m)\u001b[49m\n",
      "\u001b[36mCell\u001b[39m\u001b[36m \u001b[39m\u001b[32mIn[32]\u001b[39m\u001b[32m, line 10\u001b[39m, in \u001b[36mcallbackF\u001b[39m\u001b[34m(xk)\u001b[39m\n\u001b[32m      8\u001b[39m \u001b[38;5;28;01mdef\u001b[39;00m\u001b[38;5;250m \u001b[39m\u001b[34mcallbackF\u001b[39m(xk):\n\u001b[32m      9\u001b[39m     \u001b[38;5;28;01mglobal\u001b[39;00m iteration\n\u001b[32m---> \u001b[39m\u001b[32m10\u001b[39m     \u001b[43miteration\u001b[49m += \u001b[32m1\u001b[39m\n\u001b[32m     11\u001b[39m     current_loss = negloglike_lnp_l1(xk, c, lagged_stimuli, dt, R, lambda_l1)\n\u001b[32m     12\u001b[39m     \u001b[38;5;28mprint\u001b[39m(\u001b[33mf\u001b[39m\u001b[33m\"\u001b[39m\u001b[33mIteration \u001b[39m\u001b[38;5;132;01m{\u001b[39;00miteration\u001b[38;5;132;01m}\u001b[39;00m\u001b[33m: loss = \u001b[39m\u001b[38;5;132;01m{\u001b[39;00mcurrent_loss\u001b[38;5;132;01m:\u001b[39;00m\u001b[33m.4f\u001b[39m\u001b[38;5;132;01m}\u001b[39;00m\u001b[33m\"\u001b[39m)\n",
      "\u001b[31mNameError\u001b[39m: name 'iteration' is not defined"
     ]
    }
   ],
   "source": [
    "from scipy.optimize import minimize\n",
    "\n",
    "neuron_idx = 31  # zero-indexed for neuron 32\n",
    "c = binned_spikes[neuron_idx, n_lags - 1 : n_lags - 1 + lagged_stimuli.shape[1]]\n",
    "w0 = np.zeros(lagged_stimuli.shape[0])\n",
    "lambda_l1 = 1  # tune this!\n",
    "\n",
    "\n",
    "pbar = tqdm(total=500, desc='Optimization Progress')  # maxiter = 500\n",
    "\n",
    "def callbackF(xk):\n",
    "    pbar.update(1)\n",
    "    # You can also print current loss or norm if you want here\n",
    "    # e.g.\n",
    "    # current_loss = negloglike_lnp_l1(xk, c, lagged_stimuli, dt, R, lambda_l1)\n",
    "    # pbar.set_postfix(loss=current_loss)\n",
    "\n",
    "\n",
    "result = minimize(\n",
    "    fun=negloglike_lnp_l1,\n",
    "    x0=w0,\n",
    "    args=(c, lagged_stimuli, dt, R, lambda_l1),\n",
    "    jac=deriv_negloglike_lnp_l1,\n",
    "    method='L-BFGS-B',\n",
    "    callback=callbackF,\n",
    "    options={'maxiter': 500, 'disp': True}\n",
    ")\n",
    "\n",
    "if result.success:\n",
    "    receptive_field_l1 = result.x\n",
    "    print(\"L1-regularized RF fitted!\")\n",
    "else:\n",
    "    print(f\"Optimization failed: {result.message}\")\n"
   ]
  },
  {
   "cell_type": "code",
   "execution_count": null,
   "id": "3308b00a",
   "metadata": {},
   "outputs": [
    {
     "data": {
      "image/png": "[encoded data removed]",
      "text/plain": [
       "<Figure size 900x300 with 4 Axes>"
      ]
     },
     "metadata": {},
     "output_type": "display_data"
    }
   ],
   "source": [
    "import matplotlib.pyplot as plt\n",
    "import numpy as np\n",
    "\n",
    "# rf_l1 is your L1-regularized receptive field vector for neuron 32\n",
    "rf_l1_reshaped = receptive_field_l1.reshape(n_lags, stim_h, stim_w)\n",
    "\n",
    "fig, axes = plt.subplots(1, n_lags, figsize=(3 * n_lags, 3))\n",
    "\n",
    "vmax = np.max(np.abs(rf_l1_reshaped))\n",
    "vmin = -vmax\n",
    "\n",
    "for lag in range(n_lags):\n",
    "    ax = axes[lag]\n",
    "    im = ax.imshow(rf_l1_reshaped[lag], cmap='bwr', vmin=vmin, vmax=vmax)\n",
    "    ax.set_title(f'Lag {lag+1}')\n",
    "    ax.axis('off')\n",
    "\n",
    "fig.suptitle('Neuron 32 L1-Regularized Receptive Field Across Lags')\n",
    "plt.colorbar(im, ax=axes.ravel().tolist(), shrink=0.5)\n",
    "plt.show()\n"
   ]
  }
 ],
 "metadata": {
  "kernelspec": {
   "display_name": "calcium-env",
   "language": "python",
   "name": "python3"
  },
  "language_info": {
   "codemirror_mode": {
    "name": "ipython",
    "version": 3
   },
   "file_extension": ".py",
   "mimetype": "text/x-python",
   "name": "python",
   "nbconvert_exporter": "python",
   "pygments_lexer": "ipython3",
   "version": "3.11.13"
  }
 },
 "nbformat": 4,
 "nbformat_minor": 5
}
